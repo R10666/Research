{
 "cells": [
  {
   "cell_type": "code",
   "execution_count": null,
   "metadata": {},
   "outputs": [],
   "source": [
    "import torch\n",
    "\n",
    "device = torch.device(\"cuda\" if torch.cuda.is_available() else \"cpu\")\n",
    "print(\"Using device:\", device)\n",
    "config = get_config()\n",
    "_, val_dataloader, tokenizer_src, tokenizer_tgt = get_ds(config)\n",
    "model = get_model(config, tokenizer_src.get_vocab_size(), tokenizer_tgt.get_vocab_size()).to(device)\n",
    "\n",
    "# Load pretrained weights, change latest weight version accordingly\n",
    "model_filename = get_weights_file_path(config, f\"21\")\n",
    "state = torch.load(model_filename, map_location=device)\n",
    "model.load_state_dict(state[\"model_state_dict\"])\n",
    "\n",
    "def translate_custom_text(model, tokenizer_src, tokenizer_tgt, text, max_len, device):\n",
    "    model.eval()  # Set the model to evaluation mode\n",
    "\n",
    "    # Preprocess the input text\n",
    "    input_tokens = tokenizer_src.encode(text, return_tensors='pt').to(device)\n",
    "    input_mask = (input_tokens != tokenizer_src.pad_token_id).unsqueeze(0).to(device)\n",
    "\n",
    "    with torch.no_grad():\n",
    "        model_out = greedy_decode(model, input_tokens, input_mask, tokenizer_src, tokenizer_tgt, max_len, device)\n",
    "        model_out_text = tokenizer_tgt.decode(model_out.detach().cpu().numpy(), skip_special_tokens=True)\n",
    "\n",
    "    return model_out_text\n",
    "\n",
    "# Example usage\n",
    "input_text = \"Hello, how are you?\"\n",
    "max_len = 50  # Define max length for the generated sequence\n",
    "translation = translate_custom_text(model, tokenizer_src, tokenizer_tgt, input_text, max_len, device)\n",
    "print(f\"Input: {input_text}\")\n",
    "print(f\"Translation: {translation}\")\n"
   ]
  }
 ],
 "metadata": {
  "kernelspec": {
   "display_name": "Python 3",
   "language": "python",
   "name": "python3"
  },
  "language_info": {
   "name": "python",
   "version": "3.9.1"
  }
 },
 "nbformat": 4,
 "nbformat_minor": 2
}
