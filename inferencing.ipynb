{
 "cells": [
  {
   "cell_type": "code",
   "execution_count": 1,
   "metadata": {},
   "outputs": [],
   "source": [
    "from pathlib import Path\n",
    "import torch\n",
    "import torch.nn as nn\n",
    "from config import get_config, get_weights_file_path\n",
    "from train import get_model, get_ds, run_validation"
   ]
  },
  {
   "cell_type": "code",
   "execution_count": 4,
   "metadata": {},
   "outputs": [
    {
     "name": "stdout",
     "output_type": "stream",
     "text": [
      "Using device: cpu\n",
      "Max length of source sentence: 309\n",
      "Max length of target sentence: 274\n"
     ]
    },
    {
     "data": {
      "text/plain": [
       "<All keys matched successfully>"
      ]
     },
     "execution_count": 4,
     "metadata": {},
     "output_type": "execute_result"
    }
   ],
   "source": [
    "device = torch.device(\"cuda\" if torch.cuda.is_available() else \"cpu\")\n",
    "print(\"Using device:\", device)\n",
    "config = get_config()\n",
    "train_dataloader, val_dataloader, tokenizer_src, tokenizer_tgt = get_ds(config)\n",
    "model = get_model(config, tokenizer_src.get_vocab_size(), tokenizer_tgt.get_vocab_size()).to(device)\n",
    "\n",
    "# load pretrained weights, change latest weight version acordingly:\n",
    "model_filename = get_weights_file_path(config, f\"21\")\n",
    "\n",
    "#state = torch.load(model_filename)\n",
    "state = torch.load(model_filename, map_location=device)\n",
    "model.load_state_dict(state[\"model_state_dict\"])\n",
    "\n",
    "##Remember to delete old tokenizer files if you get compatibility errors."
   ]
  },
  {
   "cell_type": "code",
   "execution_count": 5,
   "metadata": {},
   "outputs": [
    {
     "name": "stdout",
     "output_type": "stream",
     "text": [
      "--------------------------------------------------------------------------------\n",
      "    SOURCE: My raft was now strong enough to bear any reasonable weight. My next care was what to load it with, and how to preserve what I laid upon it from the surf of the sea; but I was not long considering this.\n",
      "    TARGET: La mia zattera era portata ora a tale stato, da poter sostenere qualunque ragionevole peso; onde gli altri miei pensieri poi furono volti su le cose di cui l’avrei caricata e sul modo di preservarle dalla risacca del mare; ma su questo secondo punto non fermai a lungo le mie considerazioni.\n",
      " PREDICTED: La mia zattera era portata ora a tale stato , da poter sostenere qualunque ragionevole peso ; onde i miei pensieri poi furono volti su le cose di cui l ’ avrei caricata e sul modo di dalla del mare ; ma su questo secondo punto non fermai a lungo le mie considerazioni .\n",
      "--------------------------------------------------------------------------------\n",
      "    SOURCE: But as in carrying them into effect they become revealed and known, they are at once obstructed by those men whom he has around him, and he, being pliant, is diverted from them.\n",
      "    TARGET: Perché l’imperatore è uomo secreto, non comunica li sua disegni con persona, non ne piglia parere: ma, come nel metterli ad effetto si cominciono a conoscere e scoprire, li cominciono ad essere contradetti da coloro che elli ha d'intorno; e quello, come facile, se ne stoglie.\n",
      " PREDICTED: Ma , come nel metterli ad effetto , e ciò la materia li ha a conoscere e chi lo ha fatto , che chi lo ha d ’ intorno a chi lo ha fatte loro ; e quanto più è , lo da coloro che elli ha cominciato a loro .\n",
      "--------------------------------------------------------------------------------\n",
      "    SOURCE: DOLLY CAME OUT OF HER ROOM for the grown-up people's tea. Oblonsky did not appear.\n",
      "    TARGET: Per il tè dei grandi Dolly uscì dalla sua camera: Stepan Arkad’ic non si faceva ancora vedere.\n",
      " PREDICTED: Per il tè dei grandi Dolly uscì dalla sua camera : Stepan Arkad ’ ic non si faceva vedere .\n",
      "--------------------------------------------------------------------------------\n",
      "    SOURCE: By this I concluded there were some wild creatures thereabouts, which had done this; but what they were I knew not.\n",
      "    TARGET: Non la prima cosa, perchè la mia provvigione sarebbe stata distrutta come fu l’altra; non la seconda, perchè l’uva si sarebbe gualcita entro il sacco.\n",
      " PREDICTED: In fine scopersi sì pienamente e l ’ ebbi delle bestie nella mia grotta ; ma qual cosa io sapeva non ne furono .\n",
      "--------------------------------------------------------------------------------\n",
      "    SOURCE: He felt miserable.\n",
      "    TARGET: Si sentiva infelice.\n",
      " PREDICTED: Si sentiva infelice .\n",
      "--------------------------------------------------------------------------------\n",
      "    SOURCE: 'You said, my love, that it would depend on Alexis Alexandrovich.' Betsy corrected her.\n",
      "    TARGET: — Voi avete detto, amica mia, che questo dipendeva da Aleksej Aleksandrovic — corresse Betsy.\n",
      " PREDICTED: — Voi avete detto , amica mia , che questo dipendeva da Aleksej Aleksandrovic — corresse Betsy .\n",
      "--------------------------------------------------------------------------------\n",
      "    SOURCE: While Betsy was saying this Anna saw by her bright intelligent look that she partly understood Anna's position and was devising something.\n",
      "    TARGET: Mentre Betsy parlava, Anna nello stesso tempo capiva, dallo sguardo vivace e intelligente di lei, ch’ella aveva intuito in parte la situazione sua, e stava ideando qualcosa.\n",
      " PREDICTED: Mentre Betsy parlava , Anna nello stesso tempo capiva , dallo sguardo vivace e intelligente di lei , ch ’ ella aveva intuito in parte la situazione sua , e stava qualcosa .\n",
      "--------------------------------------------------------------------------------\n",
      "    SOURCE: THE. NARROW ROOM IN WHICH THEY WERE EATING arid smoking was full of noblemen.\n",
      "    TARGET: La sala stretta nella quale si fumava e si mangiucchiava, era piena di nobili.\n",
      " PREDICTED: La sala era stretta nella quale si fumava e si , era piena di nobili .\n",
      "--------------------------------------------------------------------------------\n",
      "    SOURCE: Her flushed face surrounded with soft hair that had escaped from beneath her night-cap shone with joy and resolution.\n",
      "    TARGET: Il suo viso, divenuto vermiglio, circondato dai capelli morbidi, di sotto alla cuffia da notte, splendeva di gioia e di risolutezza.\n",
      " PREDICTED: Il suo viso emanava vermiglio , circondato dai capelli morbidi , di sotto alla cuffia da notte , splendeva dal cuffia da notte , e di risolutezza .\n",
      "--------------------------------------------------------------------------------\n",
      "    SOURCE: However, for the present I let him go, knowing no better at that time: then I went to the three kids, and taking them one by one, I tied them with strings together, and with some difficulty brought them all home.\n",
      "    TARGET: Nondimeno in quel momento lo lasciai andare non vedendo nulla di meglio a farsi; poscia venni ai miei tre capretti che, presili ad uno ad uno, legai tutti ad uno stesso guinzaglio, e non senza qualche difficoltà me li trassi a casa.\n",
      " PREDICTED: Nondimeno , per quel momento non lasciai andare a casa , non vedendo che nulla di meglio a farsi ; poscia venni ad essi tre capretti che , ad uno stesso guinzaglio , e non senza qualche difficoltà me li trassi a casa .\n",
      "--------------------------------------------------------------------------------\n"
     ]
    }
   ],
   "source": [
    "run_validation(model, val_dataloader, tokenizer_src, tokenizer_tgt, config[\"seq_len\"], device, lambda msg: print(msg), 0, None, num_examples=20)"
   ]
  }
 ],
 "metadata": {
  "kernelspec": {
   "display_name": "Python 3",
   "language": "python",
   "name": "python3"
  },
  "language_info": {
   "codemirror_mode": {
    "name": "ipython",
    "version": 3
   },
   "file_extension": ".py",
   "mimetype": "text/x-python",
   "name": "python",
   "nbconvert_exporter": "python",
   "pygments_lexer": "ipython3",
   "version": "3.9.1"
  }
 },
 "nbformat": 4,
 "nbformat_minor": 2
}
